{
 "cells": [
  {
   "cell_type": "code",
   "execution_count": 1,
   "metadata": {},
   "outputs": [],
   "source": [
    "from datetime import datetime, timedelta\n",
    "from dateutil.relativedelta import relativedelta\n",
    "import pandas as pd\n",
    "from sqlalchemy import create_engine\n",
    "\n",
    "# ---------------------------\n",
    "# Step 0: Database Connection\n",
    "# ---------------------------\n",
    "db_config = {\n",
    "    'host': 'localhost',\n",
    "    'database': 'postgres',\n",
    "    'user': 'postgres',\n",
    "    'password': 'kaviyam123',\n",
    "    'port': '5432'\n",
    "}\n",
    "connection_string = f\"postgresql://{db_config['user']}:{db_config['password']}@{db_config['host']}:{db_config['port']}/{db_config['database']}\"\n",
    "engine = create_engine(connection_string)\n",
    "\n",
    "# ---------------------------\n",
    "# Step 1: Load Data\n",
    "# ---------------------------\n",
    "query = \"SELECT * FROM appended_base_and_pr;\"\n",
    "df = pd.read_sql(query, con=engine)"
   ]
  },
  {
   "cell_type": "code",
   "execution_count": 2,
   "metadata": {},
   "outputs": [
    {
     "data": {
      "text/plain": [
       "3169490"
      ]
     },
     "execution_count": 2,
     "metadata": {},
     "output_type": "execute_result"
    }
   ],
   "source": [
    "# Convert date columns to datetime using the names in your dataset\n",
    "df['policy start date'] = pd.to_datetime(df['policy start date'], errors='coerce')\n",
    "df['policy end date'] = pd.to_datetime(df['policy end date'], errors='coerce')\n",
    "df = df.dropna(subset=['policy start date', 'policy end date'])\n",
    "\n",
    "# ---------------------------\n",
    "# Step 2: Filter Premium Values\n",
    "# ---------------------------\n",
    "# Use the column \"total premium payable\" as provided in your column list\n",
    "df['total premium payable'] = pd.to_numeric(df['total premium payable'].astype(str).str.strip(), errors='coerce')\n",
    "df = df[df['total premium payable'].notnull() & (df['total premium payable'] > 0.01)]\n",
    "\n",
    "# ---------------------------\n",
    "# Step 3: Calculate Policy Tenure & Filter\n",
    "# ---------------------------\n",
    "def calculate_tenure_exact(start_date, end_date):\n",
    "    diff = relativedelta(end_date, start_date)\n",
    "    return diff.years * 12 + diff.months + (diff.days >= 0)\n",
    "\n",
    "df['Policy Tenure(check)'] = df.apply(lambda row: calculate_tenure_exact(row['policy start date'], row['policy end date']), axis=1)\n",
    "df = df[df['Policy Tenure(check)'] > 10]\n",
    "\n",
    "len(df)"
   ]
  },
  {
   "cell_type": "code",
   "execution_count": 3,
   "metadata": {},
   "outputs": [
    {
     "name": "stderr",
     "output_type": "stream",
     "text": [
      "C:\\Users\\Admin\\AppData\\Local\\Temp\\ipykernel_1672\\2768673751.py:14: DeprecationWarning: DataFrameGroupBy.apply operated on the grouping columns. This behavior is deprecated, and in a future version of pandas the grouping columns will be excluded from the operation. Either pass `include_groups=False` to exclude the groupings or explicitly select the grouping columns after groupby to silence this warning.\n",
      "  .apply(prioritize_rows)\n"
     ]
    },
    {
     "data": {
      "text/plain": [
       "2336588"
      ]
     },
     "execution_count": 3,
     "metadata": {},
     "output_type": "execute_result"
    }
   ],
   "source": [
    "# ---------------------------\n",
    "# Step 4: Handle Duplicates and Prioritize\n",
    "# ---------------------------\n",
    "def prioritize_rows(group):\n",
    "    # Count null values in each row to help with prioritization\n",
    "    group['null_count'] = group.isnull().sum(axis=1)\n",
    "    group = group.sort_values(by=['null_count', 'booked', 'policy start date'], ascending=[True, False, True])\n",
    "    return group.iloc[0]\n",
    "\n",
    "# Identify duplicate rows based on 'policy no', 'policy start date', and 'policy end date'\n",
    "duplicates = df[df.duplicated(subset=['policy no', 'policy start date', 'policy end date'], keep=False)]\n",
    "cleaned_duplicates = (\n",
    "    duplicates.groupby(['policy no', 'policy start date', 'policy end date'])\n",
    "    .apply(prioritize_rows)\n",
    "    .reset_index(drop=True)\n",
    ")\n",
    "df_cleaned = df.drop_duplicates(subset=['policy no', 'policy start date', 'policy end date'], keep=False)\n",
    "df_cleaned = pd.concat([df_cleaned, cleaned_duplicates], ignore_index=True)\n",
    "\n",
    "len(df_cleaned)"
   ]
  },
  {
   "cell_type": "code",
   "execution_count": 5,
   "metadata": {},
   "outputs": [],
   "source": [
    "import re\n",
    "\n",
    "# ---------------------------\n",
    "# Step 6: Clean Specified Name Columns\n",
    "# ---------------------------\n",
    "def clean_name(name):\n",
    "    return re.sub(r'[^a-zA-Z0-9]', '', str(name)).lower()\n",
    "columns_to_clean = {\n",
    "    \"insured name\": \"Cleaned insured name\",\n",
    "    \"new branch name 2\": \"Cleaned Branch Name 2\",\n",
    "    \"state2\": \"Cleaned State2\",\n",
    "    \"zone 2\": \"Cleaned Zone 2\",\n",
    "    \"chassis number\": \"Cleaned Chassis Number\",\n",
    "    \"enginenumber\": \"Cleaned Engine Number\",\n",
    "    \"reg no\": \"Cleaned Reg no\"\n",
    "}\n",
    "for orig_col, new_col in columns_to_clean.items():\n",
    "    if orig_col in df_cleaned.columns:\n",
    "        df_cleaned[new_col] = df_cleaned[orig_col].apply(clean_name)"
   ]
  },
  {
   "cell_type": "code",
   "execution_count": 6,
   "metadata": {},
   "outputs": [
    {
     "data": {
      "text/plain": [
       "140"
      ]
     },
     "execution_count": 6,
     "metadata": {},
     "output_type": "execute_result"
    }
   ],
   "source": [
    "# ---------------------------\n",
    "# Final DataFrame ready for analysis or export\n",
    "# ---------------------------\n",
    "df_cleaned.to_sql('basiccleaned_appended_base_and_pr', con=engine, if_exists='replace', index=False)"
   ]
  },
  {
   "cell_type": "code",
   "execution_count": null,
   "metadata": {},
   "outputs": [],
   "source": []
  }
 ],
 "metadata": {
  "kernelspec": {
   "display_name": "Python 3",
   "language": "python",
   "name": "python3"
  },
  "language_info": {
   "codemirror_mode": {
    "name": "ipython",
    "version": 3
   },
   "file_extension": ".py",
   "mimetype": "text/x-python",
   "name": "python",
   "nbconvert_exporter": "python",
   "pygments_lexer": "ipython3",
   "version": "3.11.9"
  }
 },
 "nbformat": 4,
 "nbformat_minor": 2
}
